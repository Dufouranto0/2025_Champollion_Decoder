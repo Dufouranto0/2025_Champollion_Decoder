{
 "cells": [
  {
   "cell_type": "markdown",
   "id": "c9216c83",
   "metadata": {},
   "source": [
    "### Calculation of the first layer dimensions of the decoder to match the last layer of the encoder (volume)"
   ]
  },
  {
   "cell_type": "code",
   "execution_count": 2,
   "id": "96e17484",
   "metadata": {},
   "outputs": [],
   "source": [
    "import numpy as np\n",
    "import torch.nn as nn\n",
    "import torch.nn.functional as F\n",
    "\n",
    "from torch import Tensor"
   ]
  },
  {
   "cell_type": "code",
   "execution_count": 3,
   "id": "32a3da47",
   "metadata": {},
   "outputs": [],
   "source": [
    "def conv3D_out_shape(shape,padding=0, kernel_size=1, stride=1, dilation=1):\n",
    "    \"\"\"\n",
    "    Return the shape of the 3D array after applying this 3D conv\n",
    "    \"\"\"\n",
    "    return ((shape+ 2*padding - dilation * (kernel_size-1)-1)/stride +1).astype(int)"
   ]
  },
  {
   "cell_type": "code",
   "execution_count": 11,
   "id": "0dd9cb4e",
   "metadata": {},
   "outputs": [],
   "source": [
    "def convTranspose3D_out_shape(shape,padding=0, kernel_size=1, stride=1, dilation=1, output_padding=0):\n",
    "    \"\"\"\n",
    "    Return the shape of the 3D array after applying this 3D conv\n",
    "    \"\"\"\n",
    "    return ((shape-1)*stride + 2*padding - dilation * (kernel_size-1) +1 + output_padding).astype(int)"
   ]
  },
  {
   "cell_type": "code",
   "execution_count": 12,
   "id": "88aed35c",
   "metadata": {},
   "outputs": [
    {
     "data": {
      "text/plain": [
       "array([10, 22, 20])"
      ]
     },
     "execution_count": 12,
     "metadata": {},
     "output_type": "execute_result"
    }
   ],
   "source": [
    "input_shape = np.array([18, 41, 38])\n",
    "conv3D_out_shape(input_shape, padding=1, kernel_size=1, stride=2, dilation=1)"
   ]
  },
  {
   "cell_type": "code",
   "execution_count": 13,
   "id": "c1a55e89",
   "metadata": {},
   "outputs": [
    {
     "data": {
      "text/plain": [
       "array([21, 45, 41])"
      ]
     },
     "execution_count": 13,
     "metadata": {},
     "output_type": "execute_result"
    }
   ],
   "source": [
    "convTranspose3D_out_shape(np.array([10, 22, 20]), padding=1, kernel_size=1, stride=2, dilation=1)"
   ]
  },
  {
   "cell_type": "code",
   "execution_count": 17,
   "id": "8c320ccc",
   "metadata": {},
   "outputs": [
    {
     "name": "stdout",
     "output_type": "stream",
     "text": [
      "Input shape:\n",
      "[37 37 16]\n",
      "Encoder\n",
      "[19 19  8]\n",
      "[10 10  4]\n",
      "[5 5 2]\n",
      "Encoder Output shape:\n",
      "[5 5 3]\n",
      "Decoder\n",
      "[10 10  4]\n",
      "[19 19  8]\n",
      "[37 37 16]\n",
      "Decoder Output shape:\n",
      "[37 37 16]\n"
     ]
    }
   ],
   "source": [
    "input_shape = np.array([37, 37, 16])\n",
    "print('Input shape:')\n",
    "print(input_shape)\n",
    "\n",
    "print('Encoder')\n",
    "new_shape = conv3D_out_shape(input_shape, padding=3, kernel_size=7, stride=1)\n",
    "new_shape = conv3D_out_shape(new_shape, padding=1, kernel_size=3, stride=2)\n",
    "print(new_shape)\n",
    "\n",
    "for i in range(2):\n",
    "    new_shape = conv3D_out_shape(new_shape, padding=1, kernel_size=3, stride=2)\n",
    "    print(new_shape)\n",
    "\n",
    "new_shape = conv3D_out_shape(new_shape, padding=3, kernel_size=3, stride=1)\n",
    "new_shape = conv3D_out_shape(new_shape, padding=1, kernel_size=3, stride=2)\n",
    "\n",
    "print('Encoder Output shape:')\n",
    "print(new_shape)\n",
    "encoder_output_shape = new_shape\n",
    "\n",
    "print('Decoder')\n",
    "new_shape = convTranspose3D_out_shape(new_shape, padding=1, kernel_size=3, stride=1)\n",
    "new_shape = convTranspose3D_out_shape(new_shape, padding=np.array([1,1,0]), kernel_size=3, stride=2, output_padding=1)\n",
    "new_shape = convTranspose3D_out_shape(new_shape, padding=1, kernel_size=3, stride=1)\n",
    "print(new_shape)\n",
    "new_shape = convTranspose3D_out_shape(new_shape, padding=1, kernel_size=3, stride=2, output_padding=np.array([0,0,1]))\n",
    "new_shape = convTranspose3D_out_shape(new_shape, padding=1, kernel_size=3, stride=1)\n",
    "print(new_shape)\n",
    "new_shape = convTranspose3D_out_shape(new_shape, padding=1, kernel_size=3, stride=2, output_padding=np.array([0,0,1]))\n",
    "print(new_shape)\n",
    "new_shape = convTranspose3D_out_shape(new_shape, padding=1, kernel_size=3, stride=1)\n",
    "print('Decoder Output shape:')\n",
    "print(new_shape)"
   ]
  },
  {
   "cell_type": "code",
   "execution_count": 26,
   "id": "94afa6b3",
   "metadata": {},
   "outputs": [
    {
     "data": {
      "text/plain": [
       "array([5, 5, 2])"
      ]
     },
     "execution_count": 26,
     "metadata": {},
     "output_type": "execute_result"
    }
   ],
   "source": [
    "from convnet import ComputeOutputDim\n",
    "\n",
    "ComputeOutputDim(np.array([37, 37, 16]), 3)\n"
   ]
  }
 ],
 "metadata": {
  "kernelspec": {
   "display_name": "decodervenv (3.10.12)",
   "language": "python",
   "name": "python3"
  },
  "language_info": {
   "codemirror_mode": {
    "name": "ipython",
    "version": 3
   },
   "file_extension": ".py",
   "mimetype": "text/x-python",
   "name": "python",
   "nbconvert_exporter": "python",
   "pygments_lexer": "ipython3",
   "version": "3.10.12"
  }
 },
 "nbformat": 4,
 "nbformat_minor": 5
}
